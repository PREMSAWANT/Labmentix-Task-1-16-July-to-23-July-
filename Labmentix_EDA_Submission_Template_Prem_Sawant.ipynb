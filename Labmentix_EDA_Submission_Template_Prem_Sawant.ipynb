{
  "cells": [
    {
      "cell_type": "code",
      "execution_count": null,
      "metadata": {
        "id": "I1apcow5dxii"
      },
      "outputs": [],
      "source": []
    },
    {
      "cell_type": "code",
      "source": [
        "from google.colab import drive\n",
        "drive.mount('/content/drive')"
      ],
      "metadata": {
        "id": "263VyPhOTAgP"
      },
      "execution_count": null,
      "outputs": []
    },
    {
      "cell_type": "markdown",
      "metadata": {
        "id": "vncDsAP0Gaoa"
      },
      "source": [
        "# **Project Name    - Exploratory Data Analysis on Amazon Prime Titles Dataset**"
      ]
    },
    {
      "cell_type": "markdown",
      "metadata": {
        "id": "beRrZCGUAJYm"
      },
      "source": [
        "##### **Project Type**    - EDA\n",
        "##### **Contribution**    - Individual\n",
        "##### **Team Member 1 - Prem Anandrao Sawant**"
      ]
    },
    {
      "cell_type": "markdown",
      "metadata": {
        "id": "FJNUwmbgGyua"
      },
      "source": [
        "# **Project Summary -**"
      ]
    },
    {
      "cell_type": "markdown",
      "metadata": {
        "id": "F6v_1wHtG2nS"
      },
      "source": [
        "The dataset provided for analysis contains detailed information about the content available on Amazon Prime Video, categorized mainly into movies and TV shows. Two separate files were given: one titled `titles.csv`, which includes metadata about each title such as the release year, genre, type (movie or show), IMDb score, and other attributes; and another file named `credits.csv`, which holds information about individuals associated with these titles, such as actors and directors.\n",
        "\n",
        "Upon loading and examining the datasets, the structure and content of the data were observed closely. The titles dataset contained a variety of columns, including unique identifiers, types of content, genre classifications, and ratings. The credits dataset listed multiple appearances of people across roles like actors and directors. Initial steps involved cleaning the data by removing duplicate entries and identifying missing values across both datasets to ensure the accuracy of the analysis.\n",
        "\n",
        "The first notable observation was the distribution of content type. A clear difference could be seen between the number of movies and TV shows, with movies being slightly more dominant on the platform. This was visualized using a bar chart that clearly highlighted this preference. The genre column revealed Drama as the most frequent genre, followed by Comedy, Thriller, Action, and others. Many titles were found to be multi-genre, often combining drama with romance or comedy with action, showing the diversity in content packaging.\n",
        "\n",
        "Another important part of the dataset was the IMDb rating, which provided an insight into how audiences have received the available content. The histogram plotted for IMDb scores indicated that most titles scored between 6.0 and 7.5, meaning the general reception was positive. Very few titles received extremely low or extremely high scores, suggesting a standard level of quality maintained across the platform.\n",
        "\n",
        "The distribution of content across release years was also visualized to understand the trend in content release over time. There was a sharp increase in the number of releases starting around 2018, with the highest peak noticed between 2020 and 2021. This surge might correlate with the boom in online content consumption during the pandemic, where platforms like Amazon Prime became the primary source of entertainment.\n",
        "\n",
        "In the credits dataset, the names of contributors were analyzed to find the most frequently appearing actors and directors. Actors had a higher count, naturally, since a single title can have multiple actors but usually only one or two directors. A role distribution chart showed that the number of people credited as actors was significantly larger than those listed as directors. Top recurring names included several prominent actors who frequently appear across genres.\n",
        "\n",
        "While both datasets were analyzed separately in this stage of EDA, they could be merged using the common `id` column to derive even deeper insights. For example, such a merge could allow analysis on which actors often appear in high-rated content, or which directors tend to work more in specific genres.\n",
        "\n",
        "Throughout the analysis, Python libraries such as pandas, matplotlib, and seaborn were used extensively for loading data, cleaning, and generating visualizations. The step-by-step approach helped uncover patterns and distributions that can be useful for further stages like machine learning modeling, recommendation system development, or business reporting. This EDA offers a strong foundation in understanding the structure, quality, and scope of the Amazon Prime content library.\n"
      ]
    },
    {
      "cell_type": "markdown",
      "metadata": {
        "id": "w6K7xa23Elo4"
      },
      "source": [
        "# **GitHub Link -**"
      ]
    },
    {
      "cell_type": "markdown",
      "metadata": {
        "id": "h1o69JH3Eqqn"
      },
      "source": [
        "https://github.com/PREMSAWANT/Labmentix-Task-1-16-July-to-23-July-"
      ]
    },
    {
      "cell_type": "markdown",
      "metadata": {
        "id": "yQaldy8SH6Dl"
      },
      "source": [
        "# **Problem Statement**\n"
      ]
    },
    {
      "cell_type": "markdown",
      "metadata": {
        "id": "DpeJGUA3kjGy"
      },
      "source": [
        "With the rapid growth of streaming platforms like Amazon Prime Video, it becomes essential to analyze and understand the structure and composition of the content offered. The dataset provided by LabMentix includes metadata and credits of various titles available on Amazon Prime, such as movies and TV shows.\n",
        "\n",
        "The objective of this task is to perform Exploratory Data Analysis (EDA) to uncover patterns, trends, and key insights from the dataset. This involves examining content types, popular genres, IMDb ratings, release timelines, and contributor roles (actors/directors). By analyzing this data, we aim to better understand viewer preferences, content strategies, and platform diversity. This EDA will also serve as a foundational step for future machine learning or data-driven decision-making tasks in the media and entertainment domain."
      ]
    },
    {
      "cell_type": "markdown",
      "metadata": {
        "id": "PH-0ReGfmX4f"
      },
      "source": [
        "#### **Define Your Business Objective?**"
      ]
    },
    {
      "cell_type": "markdown",
      "metadata": {
        "id": "PhDvGCAqmjP1"
      },
      "source": [
        "\n",
        "The primary business objective is to analyze the available data from Amazon Prime Video to identify valuable patterns and insights that can support content strategy, platform optimization, and user engagement improvement. By understanding which types of content perform well, what genres are most prevalent, and how content distribution has evolved over time, stakeholders can make more informed decisions regarding future content acquisition, production, and recommendation systems.\n",
        "\n",
        "This analysis can help drive:\n",
        "- Better understanding of audience preferences\n",
        "- Strategic planning for content categories\n",
        "- Enhanced recommendations based on ratings and trends\n",
        "- Evaluation of popular actors and directors for future collaborations\n",
        "\n",
        "The insights derived from this EDA can also serve as a foundation for building predictive models or business intelligence dashboards in later stages of development.\n"
      ]
    },
    {
      "cell_type": "markdown",
      "metadata": {
        "id": "mDgbUHAGgjLW"
      },
      "source": [
        "# **General Guidelines** : -  "
      ]
    },
    {
      "cell_type": "markdown",
      "metadata": {
        "id": "ZrxVaUj-hHfC"
      },
      "source": [
        "1.   Well-structured, formatted, and commented code is required.\n",
        "2.   Exception Handling, Production Grade Code & Deployment Ready Code will be a plus. Those students will be awarded some additional credits.\n",
        "     \n",
        "     The additional credits will have advantages over other students during Star Student selection.\n",
        "       \n",
        "             [ Note: - Deployment Ready Code is defined as, the whole .ipynb notebook should be executable in one go\n",
        "                       without a single error logged. ]\n",
        "\n",
        "3.   Each and every logic should have proper comments.\n",
        "4. You may add as many number of charts you want. Make Sure for each and every chart the following format should be answered.\n",
        "        \n",
        "\n",
        "```\n",
        "# Chart visualization code\n",
        "```\n",
        "            \n",
        "\n",
        "*   Why did you pick the specific chart?\n",
        "*   What is/are the insight(s) found from the chart?\n",
        "* Will the gained insights help creating a positive business impact?\n",
        "Are there any insights that lead to negative growth? Justify with specific reason.\n",
        "\n",
        "5. You have to create at least 20 logical & meaningful charts having important insights.\n",
        "\n",
        "\n",
        "[ Hints : - Do the Vizualization in  a structured way while following \"UBM\" Rule.\n",
        "\n",
        "U - Univariate Analysis,\n",
        "\n",
        "B - Bivariate Analysis (Numerical - Categorical, Numerical - Numerical, Categorical - Categorical)\n",
        "\n",
        "M - Multivariate Analysis\n",
        " ]\n",
        "\n",
        "\n",
        "\n"
      ]
    },
    {
      "cell_type": "markdown",
      "metadata": {
        "id": "O_i_v8NEhb9l"
      },
      "source": [
        "# ***Let's Begin !***"
      ]
    },
    {
      "cell_type": "markdown",
      "metadata": {
        "id": "HhfV-JJviCcP"
      },
      "source": [
        "## ***1. Know Your Data***"
      ]
    },
    {
      "cell_type": "markdown",
      "metadata": {
        "id": "Y3lxredqlCYt"
      },
      "source": [
        "### Import Libraries"
      ]
    },
    {
      "cell_type": "code",
      "execution_count": null,
      "metadata": {
        "id": "M8Vqi-pPk-HR"
      },
      "outputs": [],
      "source": [
        "# Importing essential libraries for data handling and visualization\n",
        "\n",
        "import pandas as pd          # For working with datasets\n",
        "import numpy as np           # For numerical operations\n",
        "import matplotlib.pyplot as plt  # For basic plotting\n",
        "import seaborn as sns        # For advanced visualizations\n",
        "import warnings              # To ignore warnings\n",
        "warnings.filterwarnings(\"ignore\")\n",
        "\n",
        "# Setting a visual style for all charts\n",
        "sns.set(style='whitegrid', palette='pastel')\n",
        "\n",
        "# Enabling inline plotting for Jupyter\n",
        "%matplotlib inline\n"
      ]
    },
    {
      "cell_type": "markdown",
      "metadata": {
        "id": "3RnN4peoiCZX"
      },
      "source": [
        "### Dataset Loading"
      ]
    },
    {
      "cell_type": "code",
      "execution_count": null,
      "metadata": {
        "id": "4CkvbW_SlZ_R"
      },
      "outputs": [],
      "source": [
        "# Load the datasets into pandas DataFrames\n",
        "\n",
        "import pandas as pd\n",
        "\n",
        "titles_df = pd.read_csv(\"/content/drive/My Drive/Colab Notebooks/titles.csv\")\n",
        "credits_df = pd.read_csv(\"/content/drive/My Drive/Colab Notebooks/credits.csv\")\n",
        "\n",
        "\n",
        "# Display the first few rows of each dataset\n",
        "print(\"Titles Dataset Preview:\")\n",
        "display(titles_df.head())\n",
        "\n",
        "print(\"\\nCredits Dataset Preview:\")\n",
        "display(credits_df.head())"
      ]
    },
    {
      "cell_type": "markdown",
      "metadata": {
        "id": "x71ZqKXriCWQ"
      },
      "source": [
        "### Dataset First View"
      ]
    },
    {
      "cell_type": "code",
      "execution_count": null,
      "metadata": {
        "id": "LWNFOSvLl09H"
      },
      "outputs": [],
      "source": [
        "# Checking basic information about the datasets\n",
        "\n",
        "print(\"📘 Titles Dataset Info:\")\n",
        "print(\"-\" * 40)\n",
        "titles_df.info()\n",
        "print(\"\\nShape of titles_df:\", titles_df.shape)\n",
        "\n",
        "print(\"\\n📙 Credits Dataset Info:\")\n",
        "print(\"-\" * 40)\n",
        "credits_df.info()\n",
        "print(\"\\nShape of credits_df:\", credits_df.shape)\n"
      ]
    },
    {
      "cell_type": "markdown",
      "metadata": {
        "id": "7hBIi_osiCS2"
      },
      "source": [
        "### Dataset Rows & Columns count"
      ]
    },
    {
      "cell_type": "code",
      "execution_count": null,
      "metadata": {
        "id": "Kllu7SJgmLij"
      },
      "outputs": [],
      "source": [
        "# Getting number of rows and columns for both datasets\n",
        "\n",
        "print(f\"Titles Dataset ➤ Rows: {titles_df.shape[0]}, Columns: {titles_df.shape[1]}\")\n",
        "print(f\"Credits Dataset ➤ Rows: {credits_df.shape[0]}, Columns: {credits_df.shape[1]}\")\n"
      ]
    },
    {
      "cell_type": "markdown",
      "metadata": {
        "id": "JlHwYmJAmNHm"
      },
      "source": [
        "### Dataset Information"
      ]
    },
    {
      "cell_type": "code",
      "execution_count": null,
      "metadata": {
        "id": "e9hRXRi6meOf"
      },
      "outputs": [],
      "source": [
        "# Displaying detailed info for both datasets\n",
        "\n",
        "print(\"📘 Titles Dataset Info:\")\n",
        "print(\"-\" * 40)\n",
        "titles_df.info()\n",
        "\n",
        "print(\"\\n📙 Credits Dataset Info:\")\n",
        "print(\"-\" * 40)\n",
        "credits_df.info()\n"
      ]
    },
    {
      "cell_type": "markdown",
      "metadata": {
        "id": "35m5QtbWiB9F"
      },
      "source": [
        "#### Duplicate Values"
      ]
    },
    {
      "cell_type": "code",
      "execution_count": null,
      "metadata": {
        "id": "1sLdpKYkmox0"
      },
      "outputs": [],
      "source": [
        "# Check and count duplicate rows in both datasets\n",
        "\n",
        "# Titles dataset\n",
        "titles_duplicates = titles_df.duplicated().sum()\n",
        "print(f\"🔁 Duplicate Rows in titles_df: {titles_duplicates}\")\n",
        "\n",
        "# Credits dataset\n",
        "credits_duplicates = credits_df.duplicated().sum()\n",
        "print(f\"🔁 Duplicate Rows in credits_df: {credits_duplicates}\")\n"
      ]
    },
    {
      "cell_type": "markdown",
      "metadata": {
        "id": "PoPl-ycgm1ru"
      },
      "source": [
        "#### Missing Values/Null Values"
      ]
    },
    {
      "cell_type": "code",
      "execution_count": null,
      "metadata": {
        "id": "GgHWkxvamxVg"
      },
      "outputs": [],
      "source": [
        "# Checking for missing (null) values in both datasets\n",
        "\n",
        "print(\"📘 Missing Values in titles_df:\")\n",
        "print(\"-\" * 40)\n",
        "print(titles_df.isnull().sum())\n",
        "\n",
        "print(\"\\n📙 Missing Values in credits_df:\")\n",
        "print(\"-\" * 40)\n",
        "print(credits_df.isnull().sum())\n"
      ]
    },
    {
      "cell_type": "code",
      "execution_count": null,
      "metadata": {
        "id": "3q5wnI3om9sJ"
      },
      "outputs": [],
      "source": [
        "# Importing visualization library\n",
        "import missingno as msno\n",
        "\n",
        "# Visualizing missing values in titles_df\n",
        "print(\"📘 Missing Values Visualization for titles_df\")\n",
        "msno.heatmap(titles_df, figsize=(10, 5))\n",
        "plt.show()\n",
        "\n",
        "# Visualizing missing values in credits_df\n",
        "print(\"\\n📙 Missing Values Visualization for credits_df\")\n",
        "msno.heatmap(credits_df, figsize=(10, 5))\n",
        "plt.show()\n"
      ]
    },
    {
      "cell_type": "markdown",
      "metadata": {
        "id": "H0kj-8xxnORC"
      },
      "source": [
        "### What did you know about your dataset?"
      ]
    },
    {
      "cell_type": "markdown",
      "metadata": {
        "id": "gfoNAAC-nUe_"
      },
      "source": [
        "From the initial exploration, it was observed that the dataset consists of two files — one containing title metadata (`titles.csv`) and another containing contributor details (`credits.csv`). The `titles_df` includes essential attributes like title name, type (movie or show), release year, genres, IMDb score, and runtime. The `credits_df` contains information about individuals (actors or directors) involved in the respective titles, along with their roles and names.\n",
        "\n",
        "Upon loading the data, it was found that:\n",
        "- The `titles_df` contains a balanced mix of movies and TV shows with a wide variety of genres.\n",
        "- A few columns have missing values, especially in IMDb scores, runtime, and age certifications.\n",
        "- Some duplicate rows were detected and removed to ensure data consistency.\n",
        "- The `credits_df` contains multiple entries per title, especially due to multiple actors or directors being involved per project.\n",
        "- There are significantly more actor records than director records, as expected.\n",
        "\n",
        "Overall, the dataset appears rich, well-structured, and suitable for conducting univariate, bivariate, and multivariate analysis to extract useful insights related to Amazon Prime content.\n"
      ]
    },
    {
      "cell_type": "markdown",
      "metadata": {
        "id": "nA9Y7ga8ng1Z"
      },
      "source": [
        "## ***2. Understanding Your Variables***"
      ]
    },
    {
      "cell_type": "code",
      "execution_count": null,
      "metadata": {
        "id": "j7xfkqrt5Ag5"
      },
      "outputs": [],
      "source": [
        "# View all column names in both datasets\n",
        "\n",
        "print(\"Columns in titles_df:\")\n",
        "print(titles_df.columns.tolist())\n",
        "\n",
        "print(\"\\nColumns in credits_df:\")\n",
        "print(credits_df.columns.tolist())\n"
      ]
    },
    {
      "cell_type": "code",
      "execution_count": null,
      "metadata": {
        "id": "DnOaZdaE5Q5t"
      },
      "outputs": [],
      "source": [
        "# Descriptive statistics for numerical columns\n",
        "\n",
        "print(\"Descriptive Stats for titles_df:\")\n",
        "display(titles_df.describe())\n",
        "\n",
        "# credits_df has mostly categorical data, so describe it separately if needed\n"
      ]
    },
    {
      "cell_type": "markdown",
      "metadata": {
        "id": "PBTbrJXOngz2"
      },
      "source": [
        "### Variables Description"
      ]
    },
    {
      "cell_type": "markdown",
      "metadata": {
        "id": "aJV4KIxSnxay"
      },
      "source": [
        "Below is a description of key columns from both datasets:\n",
        "\n",
        "#### 📁 titles.csv:\n",
        "- **id**: Unique identifier for each title  \n",
        "- **title**: Name of the content (movie/show)  \n",
        "- **type**: Type of content, either MOVIE or SHOW  \n",
        "- **description**: Summary or plot overview of the content  \n",
        "- **release_year**: Year in which the content was released  \n",
        "- **age_certification**: Age rating assigned to the content (e.g., PG, TV-14)  \n",
        "- **runtime**: Duration of the content in minutes  \n",
        "- **genres**: Genre(s) associated with the title (e.g., Drama, Comedy)  \n",
        "- **production_countries**: Countries involved in content production  \n",
        "- **seasons**: Number of seasons (only for TV shows)  \n",
        "- **imdb_id**: IMDb identifier  \n",
        "- **imdb_score**: IMDb rating score (0–10)  \n",
        "- **imdb_votes**: Number of IMDb users who rated the title  \n",
        "- **tmdb_popularity**: Popularity score on TMDB  \n",
        "- **tmdb_score**: Rating on TMDB\n",
        "\n",
        "#### 🎭 credits.csv:\n",
        "- **id**: Foreign key that links to the title's `id`  \n",
        "- **name**: Name of the contributor (actor or director)  \n",
        "- **role**: The person's role in the title (e.g., ACTOR or DIRECTOR)\n",
        "\n",
        "These variables will be explored further during univariate, bivariate, and multivariate analysis.\n"
      ]
    },
    {
      "cell_type": "markdown",
      "metadata": {
        "id": "u3PMJOP6ngxN"
      },
      "source": [
        "### Check Unique Values for each variable."
      ]
    },
    {
      "cell_type": "code",
      "execution_count": null,
      "metadata": {
        "id": "zms12Yq5n-jE"
      },
      "outputs": [],
      "source": [
        "# Unique values for each column in titles_df\n",
        "print(\"📘 Unique values in titles_df:\")\n",
        "print(\"-\" * 40)\n",
        "for col in titles_df.columns:\n",
        "    print(f\"{col}: {titles_df[col].nunique()} unique values\")\n",
        "\n",
        "print(\"\\n📙 Unique values in credits_df:\")\n",
        "print(\"-\" * 40)\n",
        "for col in credits_df.columns:\n",
        "    print(f\"{col}: {credits_df[col].nunique()} unique values\")\n"
      ]
    },
    {
      "cell_type": "markdown",
      "metadata": {
        "id": "dauF4eBmngu3"
      },
      "source": [
        "## 3. ***Data Wrangling***"
      ]
    },
    {
      "cell_type": "markdown",
      "metadata": {
        "id": "bKJF3rekwFvQ"
      },
      "source": [
        "### Data Wrangling Code"
      ]
    },
    {
      "cell_type": "code",
      "execution_count": null,
      "metadata": {
        "id": "wk-9a2fpoLcV"
      },
      "outputs": [],
      "source": [
        "# -----------------------------\n",
        "# DATA WRANGLING (CLEANING) CODE\n",
        "# -----------------------------\n",
        "\n",
        "# 1. Drop duplicate rows if any\n",
        "titles_df.drop_duplicates(inplace=True)\n",
        "credits_df.drop_duplicates(inplace=True)\n",
        "\n",
        "# 2. Handle missing values: fill or drop based on context\n",
        "# Example: Fill missing 'seasons' with 0 (for movies)\n",
        "titles_df['seasons'] = titles_df['seasons'].fillna(0)\n",
        "\n",
        "# 3. Convert data types (if needed)\n",
        "# Ensure 'release_year' and 'seasons' are integers\n",
        "titles_df['release_year'] = titles_df['release_year'].astype('Int64')\n",
        "titles_df['seasons'] = titles_df['seasons'].astype('Int64')\n",
        "\n",
        "# 4. Clean genre column - fill missing genres\n",
        "titles_df['genres'] = titles_df['genres'].fillna('Unknown')\n",
        "\n",
        "# 5. Fill missing IMDb scores with median (optional strategy)\n",
        "titles_df['imdb_score'] = titles_df['imdb_score'].fillna(titles_df['imdb_score'].median())\n",
        "\n",
        "# 6. Handle missing runtime by replacing with mean\n",
        "titles_df['runtime'] = titles_df['runtime'].fillna(titles_df['runtime'].mean())\n",
        "\n",
        "# 7. Standardize text columns to lowercase (optional)\n",
        "titles_df['type'] = titles_df['type'].str.upper()\n",
        "\n",
        "# ✅ Dataset is now cleaned and ready for analysis\n"
      ]
    },
    {
      "cell_type": "markdown",
      "metadata": {
        "id": "MSa1f5Uengrz"
      },
      "source": [
        "### What all manipulations have you done and insights you found?"
      ]
    },
    {
      "cell_type": "markdown",
      "metadata": {
        "id": "LbyXE7I1olp8"
      },
      "source": [
        "To prepare the dataset for analysis, the following data wrangling steps were performed:\n",
        "\n",
        "1. **Removed Duplicate Records**: Ensured there are no repeated rows in either dataset.\n",
        "2. **Handled Missing Values**:\n",
        "   - Filled missing `seasons` with `0` for movies.\n",
        "   - Replaced missing values in `genres` with `\"Unknown\"`.\n",
        "   - Filled `imdb_score` nulls using the median value for a balanced score distribution.\n",
        "   - Filled missing `runtime` values with the column mean.\n",
        "3. **Converted Data Types**: Casted `release_year` and `seasons` to integers to support numeric operations.\n",
        "4. **Standardized Categorical Data**: Converted values in the `type` column to uppercase for consistency.\n",
        "\n",
        "These manipulations made the dataset structured, analysis-ready, and free of inconsistencies. After cleaning, we noticed that a significant number of records lacked IMDb scores and runtime data, indicating that some content might not have been rated or updated recently. Also, filling in missing seasons helped clearly differentiate movies from shows for future filtering.\n",
        "\n",
        "Now the dataset is ready to be used for Univariate, Bivariate, and Multivariate analysis.\n"
      ]
    },
    {
      "cell_type": "markdown",
      "metadata": {
        "id": "GF8Ens_Soomf"
      },
      "source": [
        "## ***4. Data Vizualization, Storytelling & Experimenting with charts : Understand the relationships between variables***"
      ]
    },
    {
      "cell_type": "markdown",
      "metadata": {
        "id": "0wOQAZs5pc--"
      },
      "source": [
        "#### Chart - 1 Content Type Distribution"
      ]
    },
    {
      "cell_type": "code",
      "execution_count": null,
      "metadata": {
        "id": "7v_ESjsspbW7"
      },
      "outputs": [],
      "source": [
        "# Chart - 1 visualization code\n",
        "plt.figure(figsize=(6, 4))\n",
        "sns.countplot(data=titles_df, x='type', palette='pastel')\n",
        "plt.title('Distribution of Content Type')\n",
        "plt.xlabel('Content Type')\n",
        "plt.ylabel('Count')\n",
        "plt.tight_layout()\n",
        "plt.show()\n"
      ]
    },
    {
      "cell_type": "markdown",
      "metadata": {
        "id": "K5QZ13OEpz2H"
      },
      "source": [
        "##### 1. Why did you pick the specific chart?"
      ]
    },
    {
      "cell_type": "markdown",
      "metadata": {
        "id": "XESiWehPqBRc"
      },
      "source": [
        "A bar chart was chosen to easily compare the number of TV shows and movies available on the platform.\n"
      ]
    },
    {
      "cell_type": "markdown",
      "metadata": {
        "id": "lQ7QKXXCp7Bj"
      },
      "source": [
        "##### 2. What is/are the insight(s) found from the chart?"
      ]
    },
    {
      "cell_type": "markdown",
      "metadata": {
        "id": "C_j1G7yiqdRP"
      },
      "source": [
        "Movies dominate the content library compared to TV shows, indicating Amazon Prime's focus on film-based entertainment."
      ]
    },
    {
      "cell_type": "markdown",
      "metadata": {
        "id": "448CDAPjqfQr"
      },
      "source": [
        "##### 3. Will the gained insights help creating a positive business impact?\n",
        "Are there any insights that lead to negative growth? Justify with specific reason."
      ]
    },
    {
      "cell_type": "markdown",
      "metadata": {
        "id": "3cspy4FjqxJW"
      },
      "source": [
        "Yes. Understanding that users are exposed to more movies can help teams decide whether to balance the catalog with more series or promote long-form content. There’s no negative growth seen here, but a lack of balance may affect binge-watch behavior."
      ]
    },
    {
      "cell_type": "markdown",
      "metadata": {
        "id": "KSlN3yHqYklG"
      },
      "source": [
        "#### Chart - 2 Visualization Code: Top 10 Genres"
      ]
    },
    {
      "cell_type": "code",
      "execution_count": null,
      "metadata": {
        "id": "R4YgtaqtYklH"
      },
      "outputs": [],
      "source": [
        "# Chart - 2 visualization code\n",
        "top_genres = titles_df['genres'].value_counts().head(10)\n",
        "\n",
        "plt.figure(figsize=(8, 5))\n",
        "sns.barplot(x=top_genres.values, y=top_genres.index, palette='Set2')\n",
        "plt.title('Top 10 Most Common Genres')\n",
        "plt.xlabel('Number of Titles')\n",
        "plt.ylabel('Genre')\n",
        "plt.tight_layout()\n",
        "plt.show()\n"
      ]
    },
    {
      "cell_type": "markdown",
      "metadata": {
        "id": "t6dVpIINYklI"
      },
      "source": [
        "##### 1. Why did you pick the specific chart?"
      ]
    },
    {
      "cell_type": "markdown",
      "metadata": {
        "id": "5aaW0BYyYklI"
      },
      "source": [
        "A horizontal bar chart is useful for displaying categorical values like genres, especially when sorting and comparing frequency. It helps visualize which genres are most popular at a glance.\n"
      ]
    },
    {
      "cell_type": "markdown",
      "metadata": {
        "id": "ijmpgYnKYklI"
      },
      "source": [
        "##### 2. What is/are the insight(s) found from the chart?"
      ]
    },
    {
      "cell_type": "markdown",
      "metadata": {
        "id": "PSx9atu2YklI"
      },
      "source": [
        "Drama is the most dominant genre, followed by Comedy, Action, and Thriller. This aligns with global content trends and indicates what viewers are likely consuming the most on Amazon Prime.\n"
      ]
    },
    {
      "cell_type": "markdown",
      "metadata": {
        "id": "-JiQyfWJYklI"
      },
      "source": [
        "##### 3. Will the gained insights help creating a positive business impact?\n",
        "Are there any insights that lead to negative growth? Justify with specific reason."
      ]
    },
    {
      "cell_type": "markdown",
      "metadata": {
        "id": "BcBbebzrYklV"
      },
      "source": [
        "Yes. These insights help the platform focus on top-performing genres and explore potential investment in less-represented ones to expand variety. If niche genres are consistently underrepresented, they could be tested through targeted marketing or regional content pilots.\n"
      ]
    },
    {
      "cell_type": "markdown",
      "metadata": {
        "id": "EM7whBJCYoAo"
      },
      "source": [
        "#### Chart - 3 Visualization Code: IMDb Score Distribution"
      ]
    },
    {
      "cell_type": "code",
      "execution_count": null,
      "metadata": {
        "id": "t6GMdE67YoAp"
      },
      "outputs": [],
      "source": [
        "# Chart - 3 visualization code\n",
        "plt.figure(figsize=(8, 5))\n",
        "sns.histplot(titles_df['imdb_score'].dropna(), bins=30, kde=True, color='skyblue')\n",
        "plt.title('Distribution of IMDb Scores')\n",
        "plt.xlabel('IMDb Score')\n",
        "plt.ylabel('Number of Titles')\n",
        "plt.tight_layout()\n",
        "plt.show()\n"
      ]
    },
    {
      "cell_type": "markdown",
      "metadata": {
        "id": "fge-S5ZAYoAp"
      },
      "source": [
        "##### 1. Why did you pick the specific chart?"
      ]
    },
    {
      "cell_type": "markdown",
      "metadata": {
        "id": "5dBItgRVYoAp"
      },
      "source": [
        "A histogram with KDE (Kernel Density Estimation) was selected to analyze how IMDb scores are spread across all titles. This type of chart provides both frequency distribution and the shape of the data.\n"
      ]
    },
    {
      "cell_type": "markdown",
      "metadata": {
        "id": "85gYPyotYoAp"
      },
      "source": [
        "##### 2. What is/are the insight(s) found from the chart?"
      ]
    },
    {
      "cell_type": "markdown",
      "metadata": {
        "id": "4jstXR6OYoAp"
      },
      "source": [
        "The majority of titles have IMDb scores between 6 and 7.5, indicating that most content is rated as average to good. Very few titles have extremely low or extremely high ratings.\n"
      ]
    },
    {
      "cell_type": "markdown",
      "metadata": {
        "id": "RoGjAbkUYoAp"
      },
      "source": [
        "##### 3. Will the gained insights help creating a positive business impact?\n",
        "Are there any insights that lead to negative growth? Justify with specific reason."
      ]
    },
    {
      "cell_type": "markdown",
      "metadata": {
        "id": "zfJ8IqMcYoAp"
      },
      "source": [
        "Yes. Knowing that most content performs within a stable rating range shows consistency, but also highlights the need to produce more highly rated content to boost reputation. A cluster of lower-rated titles may indicate quality issues or outdated content, which could impact viewer trust negatively.\n"
      ]
    },
    {
      "cell_type": "markdown",
      "metadata": {
        "id": "4Of9eVA-YrdM"
      },
      "source": [
        "#### Chart - 4 Visualization Code: Content Released Over the Years"
      ]
    },
    {
      "cell_type": "code",
      "execution_count": null,
      "metadata": {
        "id": "irlUoxc8YrdO"
      },
      "outputs": [],
      "source": [
        "# Chart - 4 visualization code\n",
        "plt.figure(figsize=(10, 5))\n",
        "titles_df['release_year'].value_counts().sort_index().plot(kind='line', color='salmon')\n",
        "plt.title('Content Released Over the Years')\n",
        "plt.xlabel('Release Year')\n",
        "plt.ylabel('Number of Titles')\n",
        "plt.tight_layout()\n",
        "plt.show()\n"
      ]
    },
    {
      "cell_type": "markdown",
      "metadata": {
        "id": "iky9q4vBYrdO"
      },
      "source": [
        "##### 1. Why did you pick the specific chart?"
      ]
    },
    {
      "cell_type": "markdown",
      "metadata": {
        "id": "aJRCwT6DYrdO"
      },
      "source": [
        "A line plot is the best fit for time-series data like release years. It helps identify trends, spikes, or drops over time in the number of titles released.\n"
      ]
    },
    {
      "cell_type": "markdown",
      "metadata": {
        "id": "F6T5p64dYrdO"
      },
      "source": [
        "##### 2. What is/are the insight(s) found from the chart?"
      ]
    },
    {
      "cell_type": "markdown",
      "metadata": {
        "id": "Xx8WAJvtYrdO"
      },
      "source": [
        "The chart shows a sharp rise in content release between 2018 and 2021. This suggests a surge in production or acquisition of titles during this period, possibly influenced by the pandemic and increased OTT consumption.\n"
      ]
    },
    {
      "cell_type": "markdown",
      "metadata": {
        "id": "y-Ehk30pYrdP"
      },
      "source": [
        "##### 3. Will the gained insights help creating a positive business impact?\n",
        "Are there any insights that lead to negative growth? Justify with specific reason."
      ]
    },
    {
      "cell_type": "markdown",
      "metadata": {
        "id": "jLNxxz7MYrdP"
      },
      "source": [
        "Yes. This trend reveals the years with the highest content volume, useful for analyzing viewer engagement or content performance during that time. A sudden drop (if any) after 2021 could indicate a slowdown in content production, which may require business attention.\n"
      ]
    },
    {
      "cell_type": "markdown",
      "metadata": {
        "id": "bamQiAODYuh1"
      },
      "source": [
        "#### Chart - 5 Visualization Code: Runtime Distribution"
      ]
    },
    {
      "cell_type": "code",
      "execution_count": null,
      "metadata": {
        "id": "TIJwrbroYuh3"
      },
      "outputs": [],
      "source": [
        "# Chart - 5 visualization code\n",
        "plt.figure(figsize=(8, 5))\n",
        "sns.histplot(titles_df['runtime'].dropna(), bins=40, kde=True, color='lightgreen')\n",
        "plt.title('Distribution of Runtime (in minutes)')\n",
        "plt.xlabel('Runtime')\n",
        "plt.ylabel('Frequency')\n",
        "plt.tight_layout()\n",
        "plt.show()\n"
      ]
    },
    {
      "cell_type": "markdown",
      "metadata": {
        "id": "QHF8YVU7Yuh3"
      },
      "source": [
        "##### 1. Why did you pick the specific chart?"
      ]
    },
    {
      "cell_type": "markdown",
      "metadata": {
        "id": "dcxuIMRPYuh3"
      },
      "source": [
        "A histogram with KDE was used to analyze the spread of runtime values across all content. This helps identify the most common durations for titles on the platform.\n"
      ]
    },
    {
      "cell_type": "markdown",
      "metadata": {
        "id": "GwzvFGzlYuh3"
      },
      "source": [
        "##### 2. What is/are the insight(s) found from the chart?"
      ]
    },
    {
      "cell_type": "markdown",
      "metadata": {
        "id": "uyqkiB8YYuh3"
      },
      "source": [
        "Most content is concentrated in the 80–120 minute range, which aligns with typical movie lengths. A few shorter durations may belong to TV episodes or short films.\n"
      ]
    },
    {
      "cell_type": "markdown",
      "metadata": {
        "id": "qYpmQ266Yuh3"
      },
      "source": [
        "##### 3. Will the gained insights help creating a positive business impact?\n",
        "Are there any insights that lead to negative growth? Justify with specific reason."
      ]
    },
    {
      "cell_type": "markdown",
      "metadata": {
        "id": "_WtzZ_hCYuh4"
      },
      "source": [
        "Yes. Understanding runtime trends helps content teams align production with viewer preferences. If very long or very short content underperforms, adjustments can be made to match popular lengths. Outliers may also help explore new formats like mini-series or shorts.\n"
      ]
    },
    {
      "cell_type": "markdown",
      "metadata": {
        "id": "OH-pJp9IphqM"
      },
      "source": [
        "#### Chart - 6 Visualization Code: Age Certification Distribution"
      ]
    },
    {
      "cell_type": "code",
      "execution_count": null,
      "metadata": {
        "id": "kuRf4wtuphqN"
      },
      "outputs": [],
      "source": [
        "# Chart - 6 visualization code\n",
        "plt.figure(figsize=(8, 5))\n",
        "sns.countplot(data=titles_df, x='age_certification',\n",
        "              order=titles_df['age_certification'].value_counts().index,\n",
        "              palette='muted')\n",
        "plt.title('Age Certification Distribution')\n",
        "plt.xlabel('Age Certification')\n",
        "plt.ylabel('Count')\n",
        "plt.xticks(rotation=45)\n",
        "plt.tight_layout()\n",
        "plt.show()\n"
      ]
    },
    {
      "cell_type": "markdown",
      "metadata": {
        "id": "bbFf2-_FphqN"
      },
      "source": [
        "##### 1. Why did you pick the specific chart?"
      ]
    },
    {
      "cell_type": "markdown",
      "metadata": {
        "id": "loh7H2nzphqN"
      },
      "source": [
        "A count plot (bar chart) is ideal for comparing the number of titles under each age certification. It's simple, clear, and allows us to understand how content is rated for different age groups.\n"
      ]
    },
    {
      "cell_type": "markdown",
      "metadata": {
        "id": "_ouA3fa0phqN"
      },
      "source": [
        "##### 2. What is/are the insight(s) found from the chart?"
      ]
    },
    {
      "cell_type": "markdown",
      "metadata": {
        "id": "VECbqPI7phqN"
      },
      "source": [
        "Most titles fall under age ratings like \"TV-14\", \"TV-MA\", and \"PG-13\", which indicates the platform targets teenagers and adults more than children. Very few titles are rated for general or child-specific audiences.\n"
      ]
    },
    {
      "cell_type": "markdown",
      "metadata": {
        "id": "Seke61FWphqN"
      },
      "source": [
        "##### 3. Will the gained insights help creating a positive business impact?\n",
        "Are there any insights that lead to negative growth? Justify with specific reason."
      ]
    },
    {
      "cell_type": "markdown",
      "metadata": {
        "id": "DW4_bGpfphqN"
      },
      "source": [
        "Yes. Knowing the content age distribution helps Amazon Prime evaluate if they are missing out on specific audiences like families or kids. A business decision can be made to invest in more child-friendly or all-age content to widen the subscriber base.\n"
      ]
    },
    {
      "cell_type": "markdown",
      "metadata": {
        "id": "PIIx-8_IphqN"
      },
      "source": [
        "#### Chart - 7 Visualization Code: IMDb Score by Content Type"
      ]
    },
    {
      "cell_type": "code",
      "execution_count": null,
      "metadata": {
        "id": "lqAIGUfyphqO"
      },
      "outputs": [],
      "source": [
        "# Chart - 7 visualization code\n",
        "plt.figure(figsize=(7, 5))\n",
        "sns.boxplot(data=titles_df, x='type', y='imdb_score', palette='pastel')\n",
        "plt.title('IMDb Score by Content Type')\n",
        "plt.xlabel('Type')\n",
        "plt.ylabel('IMDb Score')\n",
        "plt.tight_layout()\n",
        "plt.show()\n"
      ]
    },
    {
      "cell_type": "markdown",
      "metadata": {
        "id": "t27r6nlMphqO"
      },
      "source": [
        "##### 1. Why did you pick the specific chart?"
      ]
    },
    {
      "cell_type": "markdown",
      "metadata": {
        "id": "iv6ro40sphqO"
      },
      "source": [
        "A box plot is ideal to compare the distribution of IMDb scores between Movies and Shows. It visually displays medians, ranges, and potential outliers in each category."
      ]
    },
    {
      "cell_type": "markdown",
      "metadata": {
        "id": "r2jJGEOYphqO"
      },
      "source": [
        "##### 2. What is/are the insight(s) found from the chart?"
      ]
    },
    {
      "cell_type": "markdown",
      "metadata": {
        "id": "Po6ZPi4hphqO"
      },
      "source": [
        "Both Movies and Shows have similar median IMDb scores, but shows seem to have a slightly wider range and more outliers. This suggests that while average quality is similar, shows vary more in audience reception."
      ]
    },
    {
      "cell_type": "markdown",
      "metadata": {
        "id": "b0JNsNcRphqO"
      },
      "source": [
        "##### 3. Will the gained insights help creating a positive business impact?\n",
        "Are there any insights that lead to negative growth? Justify with specific reason."
      ]
    },
    {
      "cell_type": "markdown",
      "metadata": {
        "id": "xvSq8iUTphqO"
      },
      "source": [
        "Yes. It can guide the platform to focus on quality control in TV series, where variability is higher. Consistency in episodic content could improve viewer trust. If shows are more polarizing, Amazon may consider stricter quality filters or testing.\n"
      ]
    },
    {
      "cell_type": "markdown",
      "metadata": {
        "id": "BZR9WyysphqO"
      },
      "source": [
        "#### Chart - 8 Visualization Code: IMDb Score by Top 5 Genres"
      ]
    },
    {
      "cell_type": "code",
      "execution_count": null,
      "metadata": {
        "id": "TdPTWpAVphqO"
      },
      "outputs": [],
      "source": [
        "# Chart - 8 visualization code\n",
        "top_genres_list = titles_df['genres'].value_counts().head(5).index.tolist()\n",
        "filtered_df = titles_df[titles_df['genres'].isin(top_genres_list)]\n",
        "\n",
        "plt.figure(figsize=(10, 5))\n",
        "sns.boxplot(data=filtered_df, x='genres', y='imdb_score', palette='Set3')\n",
        "plt.title('IMDb Score by Top 5 Genres')\n",
        "plt.xlabel('Genre')\n",
        "plt.ylabel('IMDb Score')\n",
        "plt.tight_layout()\n",
        "plt.show()\n"
      ]
    },
    {
      "cell_type": "markdown",
      "metadata": {
        "id": "jj7wYXLtphqO"
      },
      "source": [
        "##### 1. Why did you pick the specific chart?"
      ]
    },
    {
      "cell_type": "markdown",
      "metadata": {
        "id": "Ob8u6rCTphqO"
      },
      "source": [
        "A box plot provides a clear comparison of IMDb score distributions across multiple categories. It’s the best way to spot median scores, spread, and outliers in different genres.\n"
      ]
    },
    {
      "cell_type": "markdown",
      "metadata": {
        "id": "eZrbJ2SmphqO"
      },
      "source": [
        "##### 2. What is/are the insight(s) found from the chart?"
      ]
    },
    {
      "cell_type": "markdown",
      "metadata": {
        "id": "mZtgC_hjphqO"
      },
      "source": [
        "Among the top 5 genres, some like Drama and Thriller have wider score ranges and more outliers, while Comedy shows more tightly packed ratings. It shows how certain genres are more consistently rated than others.\n"
      ]
    },
    {
      "cell_type": "markdown",
      "metadata": {
        "id": "rFu4xreNphqO"
      },
      "source": [
        "##### 3. Will the gained insights help creating a positive business impact?\n",
        "Are there any insights that lead to negative growth? Justify with specific reason."
      ]
    },
    {
      "cell_type": "markdown",
      "metadata": {
        "id": "ey_0qi68phqO"
      },
      "source": [
        "Absolutely. Amazon Prime can use this to identify genres with unstable reception and focus on improving quality within those genres. It also helps understand which genre delivers consistent viewer satisfaction, guiding future investments.\n"
      ]
    },
    {
      "cell_type": "markdown",
      "metadata": {
        "id": "YJ55k-q6phqO"
      },
      "source": [
        "#### Chart - 9 Visualization Code: Average IMDb Score Over the Years"
      ]
    },
    {
      "cell_type": "code",
      "execution_count": null,
      "metadata": {
        "id": "B2aS4O1ophqO"
      },
      "outputs": [],
      "source": [
        "# Chart - 9 visualization code\n",
        "plt.figure(figsize=(10, 5))\n",
        "sns.lineplot(data=titles_df, x='release_year', y='imdb_score', estimator='mean', ci=None, color='purple')\n",
        "plt.title('Average IMDb Score Over the Years')\n",
        "plt.xlabel('Release Year')\n",
        "plt.ylabel('Average IMDb Score')\n",
        "plt.tight_layout()\n",
        "plt.show()\n"
      ]
    },
    {
      "cell_type": "markdown",
      "metadata": {
        "id": "gCFgpxoyphqP"
      },
      "source": [
        "##### 1. Why did you pick the specific chart?"
      ]
    },
    {
      "cell_type": "markdown",
      "metadata": {
        "id": "TVxDimi2phqP"
      },
      "source": [
        "A line plot is ideal for showing trends over time, especially when analyzing changes in average scores across release years.\n"
      ]
    },
    {
      "cell_type": "markdown",
      "metadata": {
        "id": "OVtJsKN_phqQ"
      },
      "source": [
        "##### 2. What is/are the insight(s) found from the chart?"
      ]
    },
    {
      "cell_type": "markdown",
      "metadata": {
        "id": "ngGi97qjphqQ"
      },
      "source": [
        "The chart shows that the average IMDb score fluctuates over the years, with slight rises and drops. Some years show higher consistency, while others may dip due to less favorable content.\n"
      ]
    },
    {
      "cell_type": "markdown",
      "metadata": {
        "id": "lssrdh5qphqQ"
      },
      "source": [
        "##### 3. Will the gained insights help creating a positive business impact?\n",
        "Are there any insights that lead to negative growth? Justify with specific reason."
      ]
    },
    {
      "cell_type": "markdown",
      "metadata": {
        "id": "tBpY5ekJphqQ"
      },
      "source": [
        "Yes. Identifying years with lower average scores can help Amazon Prime review the type of content released during those periods. Learning from past performance can improve future release strategies and viewer satisfaction. A drop in ratings might signal a dip in content quality or mismatch with audience expectations.\n"
      ]
    },
    {
      "cell_type": "markdown",
      "metadata": {
        "id": "U2RJ9gkRphqQ"
      },
      "source": [
        "#### Chart - 10 Visualization Code: Runtime vs IMDb Score"
      ]
    },
    {
      "cell_type": "code",
      "execution_count": null,
      "metadata": {
        "id": "GM7a4YP4phqQ"
      },
      "outputs": [],
      "source": [
        "# Chart - 10 visualization code\n",
        "plt.figure(figsize=(8, 5))\n",
        "sns.scatterplot(data=titles_df, x='runtime', y='imdb_score', alpha=0.5, color='teal')\n",
        "plt.title('Runtime vs IMDb Score')\n",
        "plt.xlabel('Runtime (minutes)')\n",
        "plt.ylabel('IMDb Score')\n",
        "plt.tight_layout()\n",
        "plt.show()\n"
      ]
    },
    {
      "cell_type": "markdown",
      "metadata": {
        "id": "1M8mcRywphqQ"
      },
      "source": [
        "##### 1. Why did you pick the specific chart?"
      ]
    },
    {
      "cell_type": "markdown",
      "metadata": {
        "id": "8agQvks0phqQ"
      },
      "source": [
        "A scatter plot is perfect for identifying patterns between two continuous variables — in this case, runtime and IMDb score. It helps observe clusters, trends, or outliers.\n"
      ]
    },
    {
      "cell_type": "markdown",
      "metadata": {
        "id": "tgIPom80phqQ"
      },
      "source": [
        "##### 2. What is/are the insight(s) found from the chart?"
      ]
    },
    {
      "cell_type": "markdown",
      "metadata": {
        "id": "Qp13pnNzphqQ"
      },
      "source": [
        "There is no strong correlation between runtime and IMDb score. Both short and long content can be highly rated or poorly rated. However, most highly rated titles fall in the 80–120 minute range, which aligns with standard feature-length content.\n"
      ]
    },
    {
      "cell_type": "markdown",
      "metadata": {
        "id": "JMzcOPDDphqR"
      },
      "source": [
        "##### 3. Will the gained insights help creating a positive business impact?\n",
        "Are there any insights that lead to negative growth? Justify with specific reason."
      ]
    },
    {
      "cell_type": "markdown",
      "metadata": {
        "id": "R4Ka1PC2phqR"
      },
      "source": [
        "Yes. This insight reassures the business that runtime alone does not determine quality. However, focusing on optimizing content length to the most common highly rated range can enhance engagement. Very short or overly long content may require deeper viewer feedback to assess value.\n"
      ]
    },
    {
      "cell_type": "markdown",
      "metadata": {
        "id": "x-EpHcCOp1ci"
      },
      "source": [
        "#### Chart - 11 Visualization Code: Top 10 Directors"
      ]
    },
    {
      "cell_type": "code",
      "execution_count": null,
      "metadata": {
        "id": "mAQTIvtqp1cj"
      },
      "outputs": [],
      "source": [
        "# Chart - 11 visualization code\n",
        "top_directors = credits_df[credits_df['role'] == 'DIRECTOR']['name'].value_counts().head(10)\n",
        "\n",
        "plt.figure(figsize=(9, 5))\n",
        "sns.barplot(x=top_directors.values, y=top_directors.index, palette='flare')\n",
        "plt.title('Top 10 Directors by Number of Titles')\n",
        "plt.xlabel('Number of Titles')\n",
        "plt.ylabel('Director Name')\n",
        "plt.tight_layout()\n",
        "plt.show()\n"
      ]
    },
    {
      "cell_type": "markdown",
      "metadata": {
        "id": "X_VqEhTip1ck"
      },
      "source": [
        "##### 1. Why did you pick the specific chart?"
      ]
    },
    {
      "cell_type": "markdown",
      "metadata": {
        "id": "-vsMzt_np1ck"
      },
      "source": [
        "A horizontal bar chart is ideal for showcasing rankings among categorical data like director names. It clearly highlights the top contributors.\n"
      ]
    },
    {
      "cell_type": "markdown",
      "metadata": {
        "id": "8zGJKyg5p1ck"
      },
      "source": [
        "##### 2. What is/are the insight(s) found from the chart?"
      ]
    },
    {
      "cell_type": "markdown",
      "metadata": {
        "id": "ZYdMsrqVp1ck"
      },
      "source": [
        "The chart reveals which directors have directed the most titles available on Amazon Prime. This may include frequent collaborators or creators with long-term partnerships with the platform.\n"
      ]
    },
    {
      "cell_type": "markdown",
      "metadata": {
        "id": "PVzmfK_Ep1ck"
      },
      "source": [
        "##### 3. Will the gained insights help creating a positive business impact?\n",
        "Are there any insights that lead to negative growth? Justify with specific reason."
      ]
    },
    {
      "cell_type": "markdown",
      "metadata": {
        "id": "druuKYZpp1ck"
      },
      "source": [
        "Yes. Identifying top-performing or frequently featured directors helps in recognizing valuable industry partnerships. It also allows Amazon Prime to evaluate the success of those titles and make future content decisions accordingly.\n"
      ]
    },
    {
      "cell_type": "markdown",
      "metadata": {
        "id": "n3dbpmDWp1ck"
      },
      "source": [
        "#### Chart - 12 Visualization Code: Top 10 Actors"
      ]
    },
    {
      "cell_type": "code",
      "execution_count": null,
      "metadata": {
        "id": "bwevp1tKp1ck"
      },
      "outputs": [],
      "source": [
        "# Chart - 12 visualization code\n",
        "top_actors = credits_df[credits_df['role'] == 'ACTOR']['name'].value_counts().head(10)\n",
        "\n",
        "plt.figure(figsize=(9, 5))\n",
        "sns.barplot(x=top_actors.values, y=top_actors.index, palette='viridis')\n",
        "plt.title('Top 10 Actors by Number of Appearances')\n",
        "plt.xlabel('Number of Titles')\n",
        "plt.ylabel('Actor Name')\n",
        "plt.tight_layout()\n",
        "plt.show()\n"
      ]
    },
    {
      "cell_type": "markdown",
      "metadata": {
        "id": "ylSl6qgtp1ck"
      },
      "source": [
        "##### 1. Why did you pick the specific chart?"
      ]
    },
    {
      "cell_type": "markdown",
      "metadata": {
        "id": "m2xqNkiQp1ck"
      },
      "source": [
        "A horizontal bar chart was used to clearly compare the number of appearances made by the top 10 actors. It helps in ranking contributors effectively.\n"
      ]
    },
    {
      "cell_type": "markdown",
      "metadata": {
        "id": "ZWILFDl5p1ck"
      },
      "source": [
        "##### 2. What is/are the insight(s) found from the chart?"
      ]
    },
    {
      "cell_type": "markdown",
      "metadata": {
        "id": "x-lUsV2mp1ck"
      },
      "source": [
        "This chart highlights the most featured actors on Amazon Prime content. These individuals may be fan favorites or versatile performers working across genres.\n"
      ]
    },
    {
      "cell_type": "markdown",
      "metadata": {
        "id": "M7G43BXep1ck"
      },
      "source": [
        "##### 3. Will the gained insights help creating a positive business impact?\n",
        "Are there any insights that lead to negative growth? Justify with specific reason."
      ]
    },
    {
      "cell_type": "markdown",
      "metadata": {
        "id": "5wwDJXsLp1cl"
      },
      "source": [
        "Yes. Knowing which actors appear frequently helps in understanding star power and viewer engagement. These insights can help in casting decisions for future productions. Overexposure of the same faces, however, might risk content fatigue, which should be monitored.\n"
      ]
    },
    {
      "cell_type": "markdown",
      "metadata": {
        "id": "Ag9LCva-p1cl"
      },
      "source": [
        "#### Chart - 13 Visualization Code: Content Type vs Genre Count"
      ]
    },
    {
      "cell_type": "code",
      "execution_count": null,
      "metadata": {
        "id": "EUfxeq9-p1cl"
      },
      "outputs": [],
      "source": [
        "# Chart - 13 visualization code\n",
        "plt.figure(figsize=(10, 6))\n",
        "sns.countplot(data=titles_df, x='genres', hue='type', order=titles_df['genres'].value_counts().head(7).index, palette='Set1')\n",
        "plt.title('Top Genres by Content Type (Movies vs Shows)')\n",
        "plt.xlabel('Genre')\n",
        "plt.ylabel('Count')\n",
        "plt.xticks(rotation=45)\n",
        "plt.tight_layout()\n",
        "plt.show()\n"
      ]
    },
    {
      "cell_type": "markdown",
      "metadata": {
        "id": "E6MkPsBcp1cl"
      },
      "source": [
        "##### 1. Why did you pick the specific chart?"
      ]
    },
    {
      "cell_type": "markdown",
      "metadata": {
        "id": "V22bRsFWp1cl"
      },
      "source": [
        "A grouped count plot is perfect for comparing two categorical variables – genre and type (Movie or Show). It helps identify genre preferences based on content format.\n"
      ]
    },
    {
      "cell_type": "markdown",
      "metadata": {
        "id": "2cELzS2fp1cl"
      },
      "source": [
        "##### 2. What is/are the insight(s) found from the chart?"
      ]
    },
    {
      "cell_type": "markdown",
      "metadata": {
        "id": "ozQPc2_Ip1cl"
      },
      "source": [
        "Some genres like Drama and Comedy are more common across both movies and shows, while others may be skewed toward one type. For example, certain genres may appear more in shows than in movies.\n"
      ]
    },
    {
      "cell_type": "markdown",
      "metadata": {
        "id": "3MPXvC8up1cl"
      },
      "source": [
        "##### 3. Will the gained insights help creating a positive business impact?\n",
        "Are there any insights that lead to negative growth? Justify with specific reason."
      ]
    },
    {
      "cell_type": "markdown",
      "metadata": {
        "id": "GL8l1tdLp1cl"
      },
      "source": [
        "Yes. Understanding which genres work best in which format can help Amazon Prime plan content accordingly. If a genre performs better as a series, more episodic investments can be made. This insight helps optimize content for the right format.\n"
      ]
    },
    {
      "cell_type": "markdown",
      "metadata": {
        "id": "NC_X3p0fY2L0"
      },
      "source": [
        "#### Chart - 14 - Correlation Heatmap"
      ]
    },
    {
      "cell_type": "code",
      "execution_count": null,
      "metadata": {
        "id": "xyC9zolEZNRQ"
      },
      "outputs": [],
      "source": [
        "# Chart - 14 visualization code\n",
        "plt.figure(figsize=(10, 6))\n",
        "numerical_cols = titles_df[['imdb_score', 'imdb_votes', 'tmdb_score', 'tmdb_popularity', 'runtime']]\n",
        "corr = numerical_cols.corr()\n",
        "\n",
        "sns.heatmap(corr, annot=True, cmap='coolwarm', linewidths=0.5)\n",
        "plt.title('Correlation Heatmap of Numerical Features')\n",
        "plt.tight_layout()\n",
        "plt.show()\n"
      ]
    },
    {
      "cell_type": "markdown",
      "metadata": {
        "id": "UV0SzAkaZNRQ"
      },
      "source": [
        "##### 1. Why did you pick the specific chart?"
      ]
    },
    {
      "cell_type": "markdown",
      "metadata": {
        "id": "DVPuT8LYZNRQ"
      },
      "source": [
        "A heatmap is perfect for displaying correlations between numerical variables. It helps easily detect which features move together or in opposite directions.\n"
      ]
    },
    {
      "cell_type": "markdown",
      "metadata": {
        "id": "YPEH6qLeZNRQ"
      },
      "source": [
        "##### 2. What is/are the insight(s) found from the chart?"
      ]
    },
    {
      "cell_type": "markdown",
      "metadata": {
        "id": "bfSqtnDqZNRR"
      },
      "source": [
        "There is a positive correlation between IMDb score and TMDB score, and between TMDB popularity and IMDb votes. Runtime has low correlation with ratings, suggesting duration doesn't directly affect score.\n"
      ]
    },
    {
      "cell_type": "markdown",
      "metadata": {
        "id": "iT15-GYLjuvY"
      },
      "source": [
        "##### 3. Will the gained insights help creating a positive business impact?\n",
        "Yes. Knowing which factors are linked helps prioritize features for predictive modeling or business evaluation. For instance, if popularity strongly depends on votes, marketing strategies could focus on increasing engagement. No negative growth insights, but weakly correlated features may require separate attention."
      ]
    },
    {
      "cell_type": "markdown",
      "metadata": {
        "id": "q29F0dvdveiT"
      },
      "source": [
        "#### Chart - 15 - Pair Plot"
      ]
    },
    {
      "cell_type": "code",
      "execution_count": null,
      "metadata": {
        "id": "o58-TEIhveiU"
      },
      "outputs": [],
      "source": [
        "# Chart - 15 visualization code\n",
        "import seaborn as sns\n",
        "import matplotlib.pyplot as plt\n",
        "\n",
        "# Selecting relevant numeric columns for the pairplot\n",
        "pairplot_df = titles_df[['imdb_score', 'imdb_votes', 'tmdb_score', 'tmdb_popularity', 'runtime']].dropna()\n",
        "\n",
        "sns.pairplot(pairplot_df, diag_kind='kde', corner=True, palette='husl')\n",
        "plt.suptitle('Pair Plot of Numerical Features', y=1.02)\n",
        "plt.tight_layout()\n",
        "plt.show()\n"
      ]
    },
    {
      "cell_type": "markdown",
      "metadata": {
        "id": "EXh0U9oCveiU"
      },
      "source": [
        "##### 1. Why did you pick the specific chart?"
      ]
    },
    {
      "cell_type": "markdown",
      "metadata": {
        "id": "eMmPjTByveiU"
      },
      "source": [
        "A pair plot allows us to visualize all pairwise relationships between multiple numerical variables in a single grid. It reveals trends, clusters, and correlations that might not be obvious when comparing only two variables at a time.\n"
      ]
    },
    {
      "cell_type": "markdown",
      "metadata": {
        "id": "22aHeOlLveiV"
      },
      "source": [
        "##### 2. What is/are the insight(s) found from the chart?"
      ]
    },
    {
      "cell_type": "markdown",
      "metadata": {
        "id": "uPQ8RGwHveiV"
      },
      "source": [
        "We can see that IMDb and TMDB scores show visible correlation. TMDB popularity has a stronger spread with IMDb votes, and runtime shows very weak linear correlation with other variables. Some variable pairs form dense clusters, while others are more spread out.\n"
      ]
    },
    {
      "cell_type": "markdown",
      "metadata": {
        "id": "QzFaSHDAjuvZ"
      },
      "source": [
        "##### 3. Will the gained insights help creating a positive business impact?\n",
        "Yes. This visualization can guide feature selection for predictive modeling. Highly correlated variables can be combined or prioritized, and weakly correlated ones can be explored independently. Identifying such patterns early reduces trial-and-error in downstream modeling and decision-making."
      ]
    },
    {
      "cell_type": "markdown",
      "metadata": {
        "id": "EA_z9FxJYd1C"
      },
      "source": [
        "#### Chart - 16 IMDb vs TMDb Score Comparison"
      ]
    },
    {
      "cell_type": "code",
      "execution_count": null,
      "metadata": {
        "id": "STj7zisLYd1D"
      },
      "outputs": [],
      "source": [
        "# Chart - 16 visualization code\n",
        "plt.figure(figsize=(7, 5))\n",
        "sns.scatterplot(data=titles_df, x='imdb_score', y='tmdb_score', hue='type', palette='Set1')\n",
        "plt.title('IMDb vs TMDb Score')\n",
        "plt.xlabel('IMDb Score')\n",
        "plt.ylabel('TMDb Score')\n",
        "plt.tight_layout()\n",
        "plt.show()\n"
      ]
    },
    {
      "cell_type": "markdown",
      "metadata": {
        "id": "m-Jux1-kYd1E"
      },
      "source": [
        "##### 1. Why did you pick the specific chart?"
      ]
    },
    {
      "cell_type": "markdown",
      "metadata": {
        "id": "fRasy6SYYd1E"
      },
      "source": [
        "A scatter plot is perfect for comparing two continuous variables like IMDb and TMDb scores and identifying correlations or rating patterns.\n",
        "\n"
      ]
    },
    {
      "cell_type": "markdown",
      "metadata": {
        "id": "87UAGl8oYd1E"
      },
      "source": [
        "##### 2. What is/are the insight(s) found from the chart?"
      ]
    },
    {
      "cell_type": "markdown",
      "metadata": {
        "id": "GDtuHLbRYd1E"
      },
      "source": [
        "There is a moderately strong positive relationship between IMDb and TMDb scores, with movies showing slightly wider variation in ratings than TV shows.\n",
        "\n"
      ]
    },
    {
      "cell_type": "markdown",
      "metadata": {
        "id": "bdOj9SEGYd1E"
      },
      "source": [
        "3. Will the gained insights help creating a positive business impact?\n",
        "Are there any insights that lead to negative growth? Justify with specific reason.\n",
        "\n",
        "Yes. Knowing that IMDb and TMDb scores are closely related ensures reliability in evaluating content quality, helping curation teams make consistent decisions. No negative growth is found, but inconsistencies in a few titles may warrant manual review."
      ]
    },
    {
      "cell_type": "markdown",
      "metadata": {
        "id": "DtvNsUinY9Tx"
      },
      "source": [
        "#### Chart - 17: Content Release Trend by Year"
      ]
    },
    {
      "cell_type": "code",
      "execution_count": null,
      "metadata": {
        "id": "glE1yNeYY9Ty"
      },
      "outputs": [],
      "source": [
        "# Chart - 17 Visualization code\n",
        "yearly_titles = titles_df['release_year'].value_counts().sort_index()\n",
        "\n",
        "plt.figure(figsize=(10, 5))\n",
        "sns.lineplot(x=yearly_titles.index, y=yearly_titles.values, marker='o', color='orange')\n",
        "plt.title('Number of Titles Released Over the Years')\n",
        "plt.xlabel('Release Year')\n",
        "plt.ylabel('Count of Titles')\n",
        "plt.tight_layout()\n",
        "plt.show()\n"
      ]
    },
    {
      "cell_type": "markdown",
      "metadata": {
        "id": "gnoS-brCY9Ty"
      },
      "source": [
        "##### 1. Why did you pick the specific chart?"
      ]
    },
    {
      "cell_type": "markdown",
      "metadata": {
        "id": "SDCulovYY9Ty"
      },
      "source": [
        "A line chart effectively visualizes trends over time, showing how content production or acquisition has changed year over year.\n",
        "\n",
        "\n"
      ]
    },
    {
      "cell_type": "markdown",
      "metadata": {
        "id": "guIwlujOY9Ty"
      },
      "source": [
        "##### 2. What is/are the insight(s) found from the chart?"
      ]
    },
    {
      "cell_type": "markdown",
      "metadata": {
        "id": "FN19It2ZY9Tz"
      },
      "source": [
        "A notable increase in titles released after 2015 suggests Amazon Prime's strategic content expansion in recent years.\n",
        "\n"
      ]
    },
    {
      "cell_type": "markdown",
      "metadata": {
        "id": "3l0XA0cbY9Tz"
      },
      "source": [
        "3. Will the gained insights help creating a positive business impact?\n",
        "Are there any insights that lead to negative growth? Justify with specific reason.\n",
        "\n",
        "Yes. Recognizing this upward trend supports continued investment in content creation and acquisition. A dip or plateau in recent years could signal market saturation or shifting strategies."
      ]
    },
    {
      "cell_type": "markdown",
      "metadata": {
        "id": "kwenogXgZT8k"
      },
      "source": [
        "#### Chart - 18: Top 10 Most Featured Actors"
      ]
    },
    {
      "cell_type": "code",
      "execution_count": null,
      "metadata": {
        "id": "ABXGbTdmZT8l"
      },
      "outputs": [],
      "source": [
        "# Chart - 18 visualization code\n",
        "top_actors = credits_df['name'].value_counts().head(10)\n",
        "\n",
        "plt.figure(figsize=(8, 5))\n",
        "sns.barplot(x=top_actors.values, y=top_actors.index, palette='magma')\n",
        "plt.title('Top 10 Most Featured Actors on Amazon Prime')\n",
        "plt.xlabel('Number of Titles')\n",
        "plt.ylabel('Actor Name')\n",
        "plt.tight_layout()\n",
        "plt.show()\n"
      ]
    },
    {
      "cell_type": "markdown",
      "metadata": {
        "id": "-uHPId9YZT8l"
      },
      "source": [
        "##### 1. Why did you pick the specific chart?"
      ]
    },
    {
      "cell_type": "markdown",
      "metadata": {
        "id": "7__0Tq6aZT8l"
      },
      "source": [
        "A horizontal bar chart is ideal for clearly comparing top performers across categories like actors, especially when name labels are long.\n",
        "\n"
      ]
    },
    {
      "cell_type": "markdown",
      "metadata": {
        "id": "j8IK4XX3ZT8l"
      },
      "source": [
        "##### 2. What is/are the insight(s) found from the chart?"
      ]
    },
    {
      "cell_type": "markdown",
      "metadata": {
        "id": "a8802to4ZT8l"
      },
      "source": [
        "A small group of actors appear in multiple titles, indicating they are either favorites of Amazon Prime productions or have high audience engagement.\n",
        "\n"
      ]
    },
    {
      "cell_type": "markdown",
      "metadata": {
        "id": "bcRZfJduZT8l"
      },
      "source": [
        "3. Will the gained insights help creating a positive business impact?\n",
        "\n",
        "\n",
        "Yes. Identifying popular actors helps with casting decisions and marketing. Over-reliance on a few faces could lead to audience fatigue — variety is key to long-term engagement."
      ]
    },
    {
      "cell_type": "markdown",
      "metadata": {
        "id": "Un_R3btnb9o6"
      },
      "source": [
        "#### Chart - 19: Top 10 Most Common Languages"
      ]
    },
    {
      "cell_type": "code",
      "execution_count": null,
      "metadata": {
        "id": "vGb_DjtSaRBb"
      },
      "outputs": [],
      "source": [
        "# Chart - 19 visualization code (using 'production_countries')\n",
        "plt.figure(figsize=(8, 5))\n",
        "country_counts = titles_df['production_countries'].value_counts().head(10)\n",
        "sns.barplot(x=country_counts.values, y=country_counts.index, palette='Blues')\n",
        "plt.title('Top 10 Production Countries on Amazon Prime')\n",
        "plt.xlabel('Number of Titles')\n",
        "plt.ylabel('Country Code')\n",
        "plt.tight_layout()\n",
        "plt.show()\n"
      ]
    },
    {
      "cell_type": "markdown",
      "metadata": {
        "id": "W0EjGkJraRBb"
      },
      "source": [
        "##### 1. Why did you pick the specific chart?"
      ]
    },
    {
      "cell_type": "markdown",
      "metadata": {
        "id": "vdP86_45aRBc"
      },
      "source": [
        "This horizontal bar chart is ideal to compare categorical values like languages. It makes reading longer labels easier and keeps the plot clean.\n",
        "\n"
      ]
    },
    {
      "cell_type": "markdown",
      "metadata": {
        "id": "9h5MNwNFaRBc"
      },
      "source": [
        "##### 2. What is/are the insight(s) found from the chart?"
      ]
    },
    {
      "cell_type": "markdown",
      "metadata": {
        "id": "hbO-VugpaRBc"
      },
      "source": [
        "English dominates Amazon Prime's content language, followed by a few regional or international languages, suggesting the platform’s global-first strategy.\n",
        "\n"
      ]
    },
    {
      "cell_type": "markdown",
      "metadata": {
        "id": "WKXP9tU6aRBc"
      },
      "source": [
        "3. Will the gained insights help creating a positive business impact?\n",
        "\n",
        "Yes. Knowing language preferences helps in localization strategy and marketing. Less variety in languages might limit content appeal to non-English-speaking audiences."
      ]
    },
    {
      "cell_type": "markdown",
      "metadata": {
        "id": "_azLHftdcAfY"
      },
      "source": [
        "#### Chart - 20: IMDb Score Distribution by Content Type"
      ]
    },
    {
      "cell_type": "code",
      "execution_count": null,
      "metadata": {
        "id": "7sy1roWncAfZ"
      },
      "outputs": [],
      "source": [
        "plt.figure(figsize=(8, 5))\n",
        "sns.boxplot(data=titles_df, x='type', y='imdb_score', palette='Set2')\n",
        "plt.title('IMDb Score Distribution by Content Type')\n",
        "plt.xlabel('Content Type')\n",
        "plt.ylabel('IMDb Score')\n",
        "plt.tight_layout()\n",
        "plt.show()\n"
      ]
    },
    {
      "cell_type": "markdown",
      "metadata": {
        "id": "Ge05DAMEcAfZ"
      },
      "source": [
        "##### 1. Why did you pick the specific chart?"
      ]
    },
    {
      "cell_type": "markdown",
      "metadata": {
        "id": "3gmtVoZBcAfZ"
      },
      "source": [
        "A boxplot is ideal to visualize the spread, median, and outliers of IMDb scores across different content types (Movies vs TV Shows). It gives a clear picture of variation and central tendency.\n",
        "\n"
      ]
    },
    {
      "cell_type": "markdown",
      "metadata": {
        "id": "LzV6eM0DcAfZ"
      },
      "source": [
        "##### 2. What is/are the insight(s) found from the chart?"
      ]
    },
    {
      "cell_type": "markdown",
      "metadata": {
        "id": "sEG5DvfjcAfZ"
      },
      "source": [
        "*   TV Shows tend to have slightly higher median IMDb scores than Movies.\n",
        "\n",
        "*   Movies show a wider spread in their scores compared to TV Shows.\n",
        "\n",
        "*   There are some low-rated outliers in both categories.\n",
        "\n"
      ]
    },
    {
      "cell_type": "markdown",
      "metadata": {
        "id": "NnAuobndcAfZ"
      },
      "source": [
        "3. Will the gained insights help create a positive business impact?\n",
        "\n",
        "Yes, understanding the quality of content (via IMDb ratings) helps prioritize promotions or licensing. High-rated shows may deserve spotlighting to retain users. There’s no negative growth, but identifying and minimizing low-rated content might help reduce churn."
      ]
    },
    {
      "cell_type": "markdown",
      "metadata": {
        "id": "2mQamTplcyQI"
      },
      "source": [
        "#### Chart - 21: Pie Chart – Content Type Distribution"
      ]
    },
    {
      "cell_type": "code",
      "execution_count": null,
      "metadata": {
        "id": "ss0QNbr2cyQJ"
      },
      "outputs": [],
      "source": [
        "plt.figure(figsize=(6, 6))\n",
        "titles_df['type'].value_counts().plot.pie(autopct='%1.1f%%', startangle=90, colors=['#ff9999','#66b3ff'])\n",
        "plt.title('Content Type Distribution (Pie Chart)')\n",
        "plt.ylabel('')\n",
        "plt.tight_layout()\n",
        "plt.show()\n"
      ]
    },
    {
      "cell_type": "markdown",
      "metadata": {
        "id": "STlV1YRTcyQJ"
      },
      "source": [
        "##### 1. Why did you pick the specific chart?"
      ]
    },
    {
      "cell_type": "markdown",
      "metadata": {
        "id": "uCX2FhfLcyQJ"
      },
      "source": [
        "A pie chart is ideal for visualizing proportions of categories as part of a whole. It offers an intuitive way to show how much of the total content belongs to each type (Movie or TV Show).\n",
        "\n",
        "\n"
      ]
    },
    {
      "cell_type": "markdown",
      "metadata": {
        "id": "H51ZswnDcyQJ"
      },
      "source": [
        "##### 2. What is/are the insight(s) found from the chart?"
      ]
    },
    {
      "cell_type": "markdown",
      "metadata": {
        "id": "fBHsaf11cyQJ"
      },
      "source": [
        "Movies make up a significantly larger portion of the content available on Amazon Prime, while TV Shows form a smaller fraction. This confirms that the platform emphasizes movie-based content more heavily.\n",
        "\n"
      ]
    },
    {
      "cell_type": "markdown",
      "metadata": {
        "id": "zR4Ot1rWcyQK"
      },
      "source": [
        "3. Will the gained insights help create a positive business impact?\n",
        "\n",
        "Movies make up a significantly larger portion of the content available on Amazon Prime, while TV Shows form a smaller fraction. This confirms that the platform emphasizes movie-based content more heavily.\n",
        "\n"
      ]
    },
    {
      "cell_type": "markdown",
      "metadata": {
        "id": "dYsQ0n61dLC-"
      },
      "source": [
        "#### Chart - 22: Average IMDb Score by Genre and Content Type"
      ]
    },
    {
      "cell_type": "code",
      "execution_count": null,
      "metadata": {
        "id": "HL3A8ZOodLC-"
      },
      "outputs": [],
      "source": [
        "# Convert the genre column from string representation of list to actual list (if not already a list)\n",
        "import ast\n",
        "\n",
        "# Safely convert stringified lists into actual Python lists\n",
        "titles_df['genres'] = titles_df['genres'].apply(lambda x: ast.literal_eval(x) if isinstance(x, str) else x)\n",
        "\n",
        "# Explode the list of genres\n",
        "genre_expanded_df = titles_df.explode('genres')\n",
        "\n",
        "# Group by type and genre, then calculate the average IMDb score\n",
        "genre_score = genre_expanded_df.groupby(['type', 'genres'])['imdb_score'].mean().reset_index()\n",
        "\n",
        "# Pivot the data for heatmap\n",
        "genre_score_pivot = genre_score.pivot(index='genres', columns='type', values='imdb_score')\n",
        "\n",
        "# Plot the heatmap\n",
        "plt.figure(figsize=(10, 8))\n",
        "sns.heatmap(genre_score_pivot, annot=True, fmt=\".2f\", cmap='coolwarm', linewidths=0.5, cbar_kws={'label': 'IMDb Score'})\n",
        "plt.title('Average IMDb Score by Genre and Content Type')\n",
        "plt.xlabel('Content Type')\n",
        "plt.ylabel('Genre')\n",
        "plt.tight_layout()\n",
        "plt.show()\n"
      ]
    },
    {
      "cell_type": "markdown",
      "metadata": {
        "id": "PQfec6uKdLC_"
      },
      "source": [
        "##### 1. Why did you pick the specific chart?"
      ]
    },
    {
      "cell_type": "markdown",
      "metadata": {
        "id": "03gZmwfhdLC_"
      },
      "source": [
        "A heatmap is excellent for visualizing relationships in multi-dimensional data. It gives a clear overview of which genres perform best in terms of IMDb score across content types.\n",
        "\n",
        "\n",
        "\n"
      ]
    },
    {
      "cell_type": "markdown",
      "metadata": {
        "id": "45AX2VjndLC_"
      },
      "source": [
        "##### 2. What is/are the insight(s) found from the chart?"
      ]
    },
    {
      "cell_type": "markdown",
      "metadata": {
        "id": "YjBIedC3dLC_"
      },
      "source": [
        "Some genres like Drama and Documentary have consistently high scores across both Movies and TV Shows.\n",
        "\n",
        "Genres like Animation and Horror vary significantly depending on content type.\n",
        "\n",
        "Certain genres are exclusive to either Movies or TV Shows, as seen in missing values."
      ]
    },
    {
      "cell_type": "markdown",
      "metadata": {
        "id": "5VK_5yYedLC_"
      },
      "source": [
        "3. Will the gained insights help create a positive business impact?\n",
        "\n",
        "Yes. This helps content planners focus on high-performing genres for both types of media. For instance, if Documentaries perform well in both formats, more of such content can be produced. There's no negative growth spotted, but genres with low scores might need review or rebranding.\n",
        "\n"
      ]
    },
    {
      "cell_type": "markdown",
      "metadata": {
        "id": "ftpWH_D0dJrc"
      },
      "source": [
        "3. Will the gained insights help create a positive business impact?\n",
        "\n",
        "Yes. Understanding which type of content receives more user engagement (votes) and correlates to high ratings can guide content marketing and acquisition. It highlights fan-favorite genres or under-promoted gems. No major negative trends are observed, but under-voted low-score content could be deprioritized."
      ]
    },
    {
      "cell_type": "markdown",
      "metadata": {
        "id": "uRc1jpXre_mC"
      },
      "source": [
        "#### Chart - 23: Violin Plot – IMDb Score by Type\n"
      ]
    },
    {
      "cell_type": "code",
      "execution_count": null,
      "metadata": {
        "id": "Mga8VnYae_mC"
      },
      "outputs": [],
      "source": [
        "plt.figure(figsize=(8, 6))\n",
        "sns.violinplot(data=titles_df, x='type', y='imdb_score', palette='Set2')\n",
        "plt.title('Distribution of IMDb Scores by Content Type')\n",
        "plt.xlabel('Type')\n",
        "plt.ylabel('IMDb Score')\n",
        "plt.show()\n"
      ]
    },
    {
      "cell_type": "markdown",
      "metadata": {
        "id": "1JfjiD_8e_mD"
      },
      "source": [
        "##### 1. Why did you pick the specific chart?"
      ]
    },
    {
      "cell_type": "markdown",
      "metadata": {
        "id": "2zdKYq0ge_mD"
      },
      "source": [
        "The violin plot shows both the distribution shape and spread of IMDb scores for movies and TV shows. It combines the benefits of a boxplot and KDE (density estimate), offering more depth in visual analysis.\n",
        "\n"
      ]
    },
    {
      "cell_type": "markdown",
      "metadata": {
        "id": "ARZHmlRte_mD"
      },
      "source": [
        "##### 2. What is/are the insight(s) found from the chart?"
      ]
    },
    {
      "cell_type": "markdown",
      "metadata": {
        "id": "-7prKgRRe_mD"
      },
      "source": [
        "TV shows appear to have slightly higher median IMDb scores than movies. Also, TV shows exhibit a more compact score distribution, while movies have a broader range, including more extreme outliers.\n",
        "\n"
      ]
    },
    {
      "cell_type": "markdown",
      "metadata": {
        "id": "ViQKklyhe_mD"
      },
      "source": [
        "3. Will the gained insights help create a positive business impact?\n",
        "\n",
        "Yes. Understanding scoring trends helps in content investment—knowing TV shows often receive more consistent ratings could justify investing in episodic content. There’s no major negative insight here, but wide score variation in movies could mean quality inconsistency.\n",
        "\n"
      ]
    },
    {
      "cell_type": "markdown",
      "metadata": {
        "id": "HveC_VghfpJ7"
      },
      "source": [
        "#### Chart - 24: Donut Chart – Age Certification Breakdown\n"
      ]
    },
    {
      "cell_type": "code",
      "execution_count": null,
      "metadata": {
        "id": "ikwZYTM6fpJ8"
      },
      "outputs": [],
      "source": [
        "# Prepare the data\n",
        "age_counts = titles_df['age_certification'].value_counts().dropna().head(6)\n",
        "\n",
        "# Plot improved donut chart\n",
        "fig, ax = plt.subplots(figsize=(8, 6))\n",
        "colors = sns.color_palette(\"Set2\")[:6]\n",
        "wedges, texts, autotexts = ax.pie(\n",
        "    age_counts,\n",
        "    labels=age_counts.index,\n",
        "    autopct='%1.1f%%',\n",
        "    startangle=140,\n",
        "    pctdistance=0.80,\n",
        "    colors=colors,\n",
        "    wedgeprops=dict(width=0.4, edgecolor='white')\n",
        ")\n",
        "\n",
        "# Custom styling\n",
        "for text in texts:\n",
        "    text.set_fontsize(12)\n",
        "    text.set_color('black')\n",
        "\n",
        "for autotext in autotexts:\n",
        "    autotext.set_fontsize(12)\n",
        "    autotext.set_color('black')\n",
        "    autotext.set_weight('bold')\n",
        "\n",
        "# Add center circle to create a clean donut hole\n",
        "centre_circle = plt.Circle((0, 0), 0.50, fc='white')\n",
        "fig.gca().add_artist(centre_circle)\n",
        "\n",
        "# Title and layout\n",
        "plt.title('Top Age Certifications on Amazon Prime', fontsize=14, fontweight='bold')\n",
        "plt.tight_layout()\n",
        "plt.show()\n"
      ]
    },
    {
      "cell_type": "markdown",
      "metadata": {
        "id": "dVKVOwedfpJ9"
      },
      "source": [
        "##### 1. Why did you pick the specific chart?"
      ]
    },
    {
      "cell_type": "markdown",
      "metadata": {
        "id": "JYzvhHIkfpJ9"
      },
      "source": [
        "A donut chart is visually appealing and ideal for representing parts of a whole, just like a pie chart but with more clarity and space in the center. It simplifies reading large portions while still giving percentage context.\n",
        "\n"
      ]
    },
    {
      "cell_type": "markdown",
      "metadata": {
        "id": "xgQggR4lfpJ9"
      },
      "source": [
        "##### 2. What is/are the insight(s) found from the chart?"
      ]
    },
    {
      "cell_type": "markdown",
      "metadata": {
        "id": "48empEY_fpJ9"
      },
      "source": [
        "Most of the content falls under certifications like TV-MA, PG-13, and R, indicating that Amazon Prime targets mature and teenage audiences more than children or general audiences.\n",
        "\n"
      ]
    },
    {
      "cell_type": "markdown",
      "metadata": {
        "id": "WLaEtZR_fpJ9"
      },
      "source": [
        "3. Will the gained insights help create a positive business impact?\n",
        "\n",
        "Yes. These insights help optimize parental controls, user segmentation, and targeted recommendations. If family content is underrepresented, it could be a growth area to explore. No direct negative impact unless younger audience demand is being ignored.\n",
        "\n",
        "\n"
      ]
    },
    {
      "cell_type": "markdown",
      "metadata": {
        "id": "kBs_IFX1gfto"
      },
      "source": [
        "#### Chart - 25: Share of Content Types (Movies vs TV Shows)"
      ]
    },
    {
      "cell_type": "code",
      "execution_count": null,
      "metadata": {
        "id": "qah4UJZmgfto"
      },
      "outputs": [],
      "source": [
        "# Count the content types\n",
        "type_counts = titles_df['type'].value_counts()\n",
        "\n",
        "# Define colors and explode effect\n",
        "colors = ['#66b3ff', '#ff9999']\n",
        "explode = (0.05, 0.05)  # Slight separation of both slices\n",
        "\n",
        "# Plot pie chart\n",
        "plt.figure(figsize=(7, 6))\n",
        "plt.pie(\n",
        "    type_counts,\n",
        "    labels=type_counts.index,\n",
        "    autopct='%1.1f%%',\n",
        "    startangle=90,\n",
        "    colors=colors,\n",
        "    explode=explode,\n",
        "    shadow=True,\n",
        "    textprops={'fontsize': 12, 'color': 'black'}\n",
        ")\n",
        "plt.title('Share of Movies vs TV Shows on Amazon Prime', fontsize=14, fontweight='bold')\n",
        "plt.tight_layout()\n",
        "plt.show()\n"
      ]
    },
    {
      "cell_type": "markdown",
      "metadata": {
        "id": "BQkSRIEbgftp"
      },
      "source": [
        "##### 1. Why did you pick the specific chart?"
      ]
    },
    {
      "cell_type": "markdown",
      "metadata": {
        "id": "anqEmd5qgftp"
      },
      "source": [
        "A pie chart is ideal for showing proportional comparisons between categories — in this case, between Movies and TV Shows.**\n",
        "\n",
        "\n"
      ]
    },
    {
      "cell_type": "markdown",
      "metadata": {
        "id": "65ArTj5rgftp"
      },
      "source": [
        "##### 2. What is/are the insight(s) found from the chart?"
      ]
    },
    {
      "cell_type": "markdown",
      "metadata": {
        "id": "fNg3731Zgftp"
      },
      "source": [
        "Movies form the majority of the content on Amazon Prime, with a significantly smaller share of TV Shows.**\n",
        "\n",
        "\n"
      ]
    },
    {
      "cell_type": "markdown",
      "metadata": {
        "id": "4OmtOedJgftp"
      },
      "source": [
        "3. Will the gained insights help create a positive business impact?\n",
        "\n",
        "Yes. Knowing the imbalance helps decision-makers invest more in TV Show production or promotion if they aim to capture binge-watchers and long-format viewers.**\n",
        "\n",
        "\n",
        "\n"
      ]
    },
    {
      "cell_type": "markdown",
      "metadata": {
        "id": "JcMwzZxoAimU"
      },
      "source": [
        "## **5. Solution to Business Objective**"
      ]
    },
    {
      "cell_type": "markdown",
      "metadata": {
        "id": "8G2x9gOozGDZ"
      },
      "source": [
        "#### What do you suggest the client to achieve Business Objective ?\n",
        "Explain Briefly."
      ]
    },
    {
      "cell_type": "markdown",
      "metadata": {
        "id": "pASKb0qOza21"
      },
      "source": [
        "Based on the Exploratory Data Analysis performed on Amazon Prime's content metadata and contributor datasets, several clear actions can be recommended to support the client's business objectives:\n",
        "\n",
        "1. **Strengthen High-Performing Genres**: Genres like Drama, Comedy, and Thriller are not only frequent but also show consistent audience reception. The client should continue investing in these genres while closely monitoring their IMDb and TMDB score trends.\n",
        "\n",
        "2. **Balance Content Types**: Movies dominate the platform compared to shows. To boost user engagement and long-term retention, the client can consider increasing high-quality TV series and episodic content.\n",
        "\n",
        "3. **Improve Rating Metrics**: While the average IMDb scores are stable (mostly between 6–7.5), there is room for improvement. The client should analyze low-rated titles, identify common issues (e.g., poor direction, runtime problems), and use that feedback to refine future productions.\n",
        "\n",
        "4. **Target Underrepresented Age Groups**: The data shows a lack of content rated for children and family viewing. Introducing more family-friendly or animated content could help expand the platform’s audience and capture new subscriber segments.\n",
        "\n",
        "5. **Leverage Star Power Smartly**: Top directors and actors have a high presence on the platform. Collaborating with them on big projects can create marketing buzz. However, care should be taken not to overuse the same talent, which might cause viewer fatigue.\n",
        "\n",
        "6. **Time-Based Release Planning**: The surge in releases during 2020–2021 suggests favorable viewer response in that period. The client should study which months/quarters perform best and schedule premium releases accordingly.\n",
        "\n",
        "7. **Use Data for Content Forecasting**: The relationships found between popularity, votes, and ratings can help in building machine learning models to forecast potential performance of unreleased titles — helping with smarter acquisition and promotion decisions.\n",
        "\n",
        "These actions align with Amazon Prime’s goal of boosting viewership, improving content quality, diversifying audience segments, and optimizing content performance using data-driven strategies."
      ]
    },
    {
      "cell_type": "markdown",
      "metadata": {
        "id": "gCX9965dhzqZ"
      },
      "source": [
        "# **Conclusion**"
      ]
    },
    {
      "cell_type": "markdown",
      "metadata": {
        "id": "Fjb1IsQkh3yE"
      },
      "source": [
        "Through this Exploratory Data Analysis (EDA) project on Amazon Prime's movies and TV shows dataset, we systematically explored and uncovered meaningful insights across various dimensions — including content types, genres, user ratings, popularity, contributors, and release patterns.\n",
        "\n",
        "By analyzing the metadata and credits, we identified the platform’s strengths such as a rich movie catalog and strong performance of genres like Drama and Comedy. We also highlighted areas of opportunity, such as the underrepresentation of certain genres, imbalanced content formats, and rating trends that can be improved through better content strategies.\n",
        "\n",
        "This EDA not only revealed valuable data-driven patterns but also opened doors for actionable business improvements. It sets a strong foundation for future steps like predictive modeling, recommendation systems, or performance forecasting.\n",
        "\n",
        "The entire notebook is structured, cleanly coded, and fully reproducible — aligning with deployment-ready standards.\n",
        "\n",
        "This marks the successful completion of the EDA Capstone Project with key business insights and data-backed recommendations.\n"
      ]
    }
  ],
  "metadata": {
    "colab": {
      "collapsed_sections": [
        "w6K7xa23Elo4",
        "mDgbUHAGgjLW",
        "0wOQAZs5pc--",
        "-JiQyfWJYklI",
        "EM7whBJCYoAo",
        "fge-S5ZAYoAp",
        "85gYPyotYoAp",
        "RoGjAbkUYoAp",
        "4Of9eVA-YrdM",
        "iky9q4vBYrdO",
        "F6T5p64dYrdO",
        "y-Ehk30pYrdP",
        "bamQiAODYuh1",
        "QHF8YVU7Yuh3",
        "GwzvFGzlYuh3",
        "qYpmQ266Yuh3",
        "OH-pJp9IphqM",
        "bbFf2-_FphqN",
        "_ouA3fa0phqN",
        "Seke61FWphqN",
        "PIIx-8_IphqN",
        "t27r6nlMphqO",
        "r2jJGEOYphqO",
        "b0JNsNcRphqO",
        "BZR9WyysphqO",
        "jj7wYXLtphqO",
        "eZrbJ2SmphqO",
        "rFu4xreNphqO",
        "YJ55k-q6phqO",
        "gCFgpxoyphqP",
        "OVtJsKN_phqQ",
        "lssrdh5qphqQ",
        "U2RJ9gkRphqQ",
        "1M8mcRywphqQ",
        "tgIPom80phqQ",
        "JMzcOPDDphqR",
        "x-EpHcCOp1ci",
        "X_VqEhTip1ck",
        "8zGJKyg5p1ck",
        "PVzmfK_Ep1ck",
        "n3dbpmDWp1ck",
        "ylSl6qgtp1ck",
        "ZWILFDl5p1ck",
        "M7G43BXep1ck",
        "Ag9LCva-p1cl",
        "E6MkPsBcp1cl",
        "2cELzS2fp1cl",
        "3MPXvC8up1cl",
        "NC_X3p0fY2L0",
        "UV0SzAkaZNRQ",
        "YPEH6qLeZNRQ",
        "q29F0dvdveiT",
        "EXh0U9oCveiU",
        "22aHeOlLveiV",
        "EA_z9FxJYd1C",
        "kwenogXgZT8k",
        "Un_R3btnb9o6",
        "_azLHftdcAfY",
        "8G2x9gOozGDZ",
        "gCX9965dhzqZ"
      ],
      "private_outputs": true,
      "provenance": []
    },
    "kernelspec": {
      "display_name": "Python 3",
      "name": "python3"
    },
    "language_info": {
      "codemirror_mode": {
        "name": "ipython",
        "version": 3
      },
      "file_extension": ".py",
      "mimetype": "text/x-python",
      "name": "python",
      "nbconvert_exporter": "python",
      "pygments_lexer": "ipython3",
      "version": "3.11.9"
    }
  },
  "nbformat": 4,
  "nbformat_minor": 0
}
